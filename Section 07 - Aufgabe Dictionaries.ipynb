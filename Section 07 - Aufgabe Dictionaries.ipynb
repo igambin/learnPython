{
 "cells": [
  {
   "cell_type": "markdown",
   "source": [
    "## Aufgabe: Dictionaries"
   ],
   "metadata": {}
  },
  {
   "cell_type": "markdown",
   "source": [
    "**Aufgabe:**\n",
    "\n",
    "Lese die ../data/names.csv - Datei ein und berechne, welcher Name insgesamt in den gesamten USA am häufigsten vergeben wurde. \n",
    "\n",
    "**Tipps**:\n",
    "\n",
    "- Lies zuerst die Daten in ein Dictionary ein und zähle, wie oft jeder Vorname insgesamt vorgekommen ist.\n",
    "- Analysiere dann erst das Dictionary und finde den häufigsten Vornamen heraus.\n",
    "- Achte drauf, wenn du 2 Zahlen addieren möchtest, musst du ggf. einen String zuerst in eine Zahl umwandeln.\n",
    "- Schreibe den gesamten Code, der die Datei öffnet und durchgeht, in einer Zelle."
   ],
   "metadata": {}
  },
  {
   "cell_type": "code",
   "execution_count": 13,
   "source": [
    "names = {}\r\n",
    "with open(\"data/names.csv\", \"r\") as file:\r\n",
    "    for line in file:\r\n",
    "        input = line.strip().split(\",\")\r\n",
    "        if input[0] == 'Id':\r\n",
    "            continue\r\n",
    "        name = input[1]\r\n",
    "        births = int(input[5])\r\n",
    "        names[name] = (names[name] if name in names else 0) + births"
   ],
   "outputs": [],
   "metadata": {}
  },
  {
   "cell_type": "code",
   "execution_count": 14,
   "source": [
    "topname = \"\"\r\n",
    "topbirths = 0\r\n",
    "\r\n",
    "for name, births in names.items():\r\n",
    "    if births > topbirths:\r\n",
    "        topname, topbirths = name, births\r\n",
    "\r\n",
    "print(topname + \": \" + str(topbirths))"
   ],
   "outputs": [
    {
     "output_type": "stream",
     "name": "stdout",
     "text": [
      "James: 4957166\n"
     ]
    }
   ],
   "metadata": {
    "collapsed": true
   }
  }
 ],
 "metadata": {
  "kernelspec": {
   "name": "python3",
   "display_name": "Python 3.8.8 64-bit ('base': conda)"
  },
  "language_info": {
   "codemirror_mode": {
    "name": "ipython",
    "version": 3
   },
   "file_extension": ".py",
   "mimetype": "text/x-python",
   "name": "python",
   "nbconvert_exporter": "python",
   "pygments_lexer": "ipython3",
   "version": "3.8.8"
  },
  "interpreter": {
   "hash": "b3ba2566441a7c06988d0923437866b63cedc61552a5af99d1f4fb67d367b25f"
  }
 },
 "nbformat": 4,
 "nbformat_minor": 2
}