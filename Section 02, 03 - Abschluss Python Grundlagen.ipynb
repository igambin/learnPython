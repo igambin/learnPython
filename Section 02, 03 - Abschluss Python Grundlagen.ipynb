{
 "cells": [
  {
   "cell_type": "markdown",
   "source": [
    "# Abschluss Python Grundlagen\n",
    "\n",
    "Nimm dir Zeit, um die Aufgaben sorgfältig zu bearbeiten. Viel Erfolg! :)\n",
    "\n",
    "Wenn du mit diesem Übungsblatt fertig bist, kannst du deine Lösung mit der Musterlösung in Textform (Datei: `Abschluss Python Grundlagen (Musterloesung)`) vergleichen. \n",
    "\n",
    "Die Video-Musterlösung (in der nächsten Lektion) ist besonders ausführlich gehalten. Wenn du alles richtig gelöst hast, ist es vollkommen okay, wenn du diese Lektion dann überspringst."
   ],
   "metadata": {}
  },
  {
   "cell_type": "markdown",
   "source": [
    "### 1.) Ein automatisierter Trick\n",
    "\n",
    "#### a.) \n",
    "Eine Mathemagierin bittet dich darum, einen ihrer Tricks durch ein kleines Programm zu automatisieren. Der Trick beginnt wie folgt: \n",
    "\n",
    "1. Denke dir eine Zahl aus (Variable `number`).\n",
    "2. Multipliziere sie mit 2.\n",
    "3. Addiere 10 zum Ergebnis.\n",
    "4. Teile das Ergebnis durch 2.\n",
    "\n",
    "Führe diese Rechnung  für die Variable _number_ durch und gebe das Ergebnis aus. "
   ],
   "metadata": {}
  },
  {
   "cell_type": "code",
   "execution_count": 1,
   "source": [
    "number = 6\r\n",
    "\r\n",
    "# Schreibe die Berechnung in folgende Zeile\r\n",
    "result = (number * 2 + 10) / 2\r\n",
    "\r\n",
    "print(result)"
   ],
   "outputs": [
    {
     "output_type": "stream",
     "name": "stdout",
     "text": [
      "11.0\n"
     ]
    }
   ],
   "metadata": {}
  },
  {
   "cell_type": "markdown",
   "source": [
    "**Hinweis:** In diesen Übungen geht es um den Python-Code. Daher gibt es hier die gewünschte Ausgabe zur Schnellkontrolle. \n",
    "\n",
    "Deine Aufgabe ist also, den Python-Code weiter oben anzupassen, dass die Rechnung aus der Aufgabenstellung korrekt berechnet wird, Und ob dann das Richtige herauskommt, kannst du mit der \"korrekten Ausgabe\" unter diesem Text prüfen. Hier geht es ja nicht um's Ergebnis, sondern um den Weg / Python-Code dahin ;) \n",
    "\n",
    "Das Notebook \"Abschluss Python Grundlagen (Musterlösung)\" enthält noch zusätzlich den fertigen Python-Code - ich würde dir aber empfehlen, erstmal selbst zu probieren, den Python-Code zu entwickeln.\n",
    "\n",
    "Korrekte Ausgabe (braucht nicht farbig zu sein):\n",
    "\n",
    "```python\n",
    "11.0\n",
    "```\n"
   ],
   "metadata": {}
  },
  {
   "cell_type": "markdown",
   "source": [
    "####  b.) \n",
    "Als sie das sieht, rümpft die Mathemagierin die Nase: Das Ergebnis wird nämlich noch als Kommazahl angezeigt. \n",
    "\n",
    "Wandle das Ergebnis in eine Ganzzahl um, bevor du es ausgibst."
   ],
   "metadata": {}
  },
  {
   "cell_type": "code",
   "execution_count": 2,
   "source": [
    "# Gebe das Ergebnis der Berechnung hier als Ganzzahl aus.\r\n",
    "print(int(result))"
   ],
   "outputs": [
    {
     "output_type": "stream",
     "name": "stdout",
     "text": [
      "11\n"
     ]
    }
   ],
   "metadata": {}
  },
  {
   "cell_type": "markdown",
   "source": [
    "Korrekte Ausgabe (braucht nicht farbig zu sein):\n",
    "\n",
    "```python\n",
    "11\n",
    "```"
   ],
   "metadata": {}
  },
  {
   "cell_type": "markdown",
   "source": [
    "####  c.)\n",
    "Die Mathemagierin weißt noch darauf hin, dass es bei Zaubertricks auch auf die Präsentation ankommt. Gebe nun einen Antwortsatz der Form \n",
    "\n",
    "**\"Du hast 6 ausgewählt, das magische Ergebnis ist 11!\"**\n",
    "\n",
    "aus, wobei für die Zahl 6 die Variable `number` und für die Zahl 11 das Ergebnis (Variable `result`) eingesetzt werden soll.\n",
    "\n",
    "**Hinweis:** In Python darf ein `print` - Befehl wie folgt über mehrere Zeilen gehen. Das könnte praktisch sein, gerade wenn du viele Strings hintereinander hängen möchtest:\n",
    "\n",
    "```python\n",
    "\n",
    "print(\"Hallo\" + \n",
    "      \"Welt\")\n",
    "```"
   ],
   "metadata": {}
  },
  {
   "cell_type": "code",
   "execution_count": 3,
   "source": [
    "# Gebe hier den Zaubertrick als Satz aus\r\n",
    "print(\"Du hast \" + str(number) + \" ausgewählt, das magische Ergebnis ist \" + str(int(result)) + \"!\")"
   ],
   "outputs": [
    {
     "output_type": "stream",
     "name": "stdout",
     "text": [
      "Du hast 6 ausgewählt, das magische Ergebnis ist 11!\n"
     ]
    }
   ],
   "metadata": {
    "scrolled": true
   }
  },
  {
   "cell_type": "markdown",
   "source": [
    "Korrekte Ausgabe:\n",
    "\n",
    "```\n",
    "Du hast 6 ausgewählt, das magische Ergebnis ist 11!\n",
    "```"
   ],
   "metadata": {}
  },
  {
   "cell_type": "markdown",
   "source": [
    "### Aufgabe 2: Zersägte E-Mail-Adressen\n",
    "\n",
    "Die Mathemagierin ist sehr zufrieden mit deiner Arbeit und bittet dich um Hilfe bei der Betreuung von ihrem Online-Shop. Sie kennt nur die Mailadressen ihrer Kunden und du sollst anhand der Mailadressen ein vereinfachtes Verzeichnis mit ihren Namen anlegen. "
   ],
   "metadata": {}
  },
  {
   "cell_type": "markdown",
   "source": [
    "#### a. ) Ziehe einen Namen aus einer Mailadresse der Form name@service.com\n",
    "\n",
    "Wenn die Mailadresse _Max-Mustermann@gmail.com_ lautet, sollst du _Max-Mustermann_ ausgeben; wenn die Mailadresse _KlaraKlarnamen@uni-berlin.de_ heisst, sollst du _KlaraKlarnamen_ ausgeben.\n",
    "\n",
    "**Hinweis:** Schau dir dazu auf jeden Fall nochmal die `.split()` - Methode an. Damit kannst du z. B. eine E-Mail-Adresse am `@` - Symbol zersägen / zerlegen."
   ],
   "metadata": {}
  },
  {
   "cell_type": "code",
   "execution_count": 4,
   "source": [
    "mail = \"willy.wizard@zauberschule.de\"\r\n",
    "print(mail.split(\"@\")[0])"
   ],
   "outputs": [
    {
     "output_type": "stream",
     "name": "stdout",
     "text": [
      "willy.wizard\n"
     ]
    }
   ],
   "metadata": {}
  },
  {
   "cell_type": "markdown",
   "source": [
    "Korrekte Ausgabe:\n",
    "\n",
    "```\n",
    "willy.wizard\n",
    "```"
   ],
   "metadata": {}
  },
  {
   "cell_type": "markdown",
   "source": [
    "#### b.) Ziehe einen Namen aus einer Mailadresse der Form info@name.com\n",
    "\n",
    "Manchmal stehen die Namen bei einer Mailadresse auch erst hinter dem @-Zeichen. Gebe auch für solche Fälle die Namen aus; entferne dabei die Endung _.com_ bzw. _.de_. Du darfst dazu voraussetzen, dass innerhalb des Namens kein Punkt vorkommt. Wenn die Mailadresse also _info@Max-Mustermann.com_ lautet, sollst du _Max-Mustermann_ ausgeben.\n",
    "\n",
    "**Hinweis:** Es ist okay, wenn du für die Berechnung mehere `.split()` - Befehle benötigst, oder ein Ergebnis zwischenspeichern möchtest. Gerne kannst du auch den Code aus der Teilaufgabe `a)` hier mitverwenden."
   ],
   "metadata": {}
  },
  {
   "cell_type": "code",
   "execution_count": 5,
   "source": [
    "mail = \"info@helena-hexe.com\"\r\n",
    "\r\n",
    "# Berechne hier den hinteren Teil der gegebenen E-Mail - Adresse\r\n",
    "print(mail.split(\"@\")[1].split(\".\")[0])"
   ],
   "outputs": [
    {
     "output_type": "stream",
     "name": "stdout",
     "text": [
      "helena-hexe\n"
     ]
    }
   ],
   "metadata": {}
  },
  {
   "cell_type": "markdown",
   "source": [
    "Korrekte Ausgabe:\n",
    "\n",
    "```\n",
    "helena-hexe\n",
    "```"
   ],
   "metadata": {}
  },
  {
   "cell_type": "markdown",
   "source": [
    "#### c.) Berechne: Wie viele Kunden gibt es im Online-Shop?\n",
    "\n",
    "Aktuell legen alle Kunden (`mail1`, `mail2`, `mail3`) als separate Variable vor. Wir möchten daraus jetzt eine Liste bauen, sodass wir die Möglichkeit hätten, später noch weitere Kunden in diese Liste hinzuzufügen.\n",
    "\n",
    "Überführe deswegen die Kunden `mail1`, `mail2` und `mail3` in die Liste `clients` und lasse dir anschließend die Anzahl der Elemente der Liste `clients` mit Hilfe von Python ausgeben."
   ],
   "metadata": {}
  },
  {
   "cell_type": "code",
   "execution_count": 6,
   "source": [
    "mail1 = \"zarah.zauber@zauberberg.de\"\r\n",
    "mail2 = \"info@trixie-trickser.com\"\r\n",
    "mail3 = \"uwe_unhold@dunkelnetz.de\" \r\n",
    "\r\n",
    "clients = []\r\n",
    "\r\n",
    "# Füge hier mail1, mail2, mail3 zur clients - Liste hinzu\r\n",
    "clients.append(mail1)\r\n",
    "clients.append(mail2)\r\n",
    "clients.append(mail3)\r\n",
    "print(clients)"
   ],
   "outputs": [
    {
     "output_type": "stream",
     "name": "stdout",
     "text": [
      "['zarah.zauber@zauberberg.de', 'info@trixie-trickser.com', 'uwe_unhold@dunkelnetz.de']\n"
     ]
    }
   ],
   "metadata": {}
  },
  {
   "cell_type": "markdown",
   "source": [
    "Korrekte Ausgabe (braucht nicht farbig zu sein):\n",
    "\n",
    "```python\n",
    "['zarah.zauber@zauberberg.de', 'info@trixie-trickser.com', 'uwe_unhold@dunkelnetz.de']\n",
    "```"
   ],
   "metadata": {
    "scrolled": true
   }
  },
  {
   "cell_type": "code",
   "execution_count": 7,
   "source": [
    "# Gebe hier die Anzahl der Elemente der Liste clients aus\r\n",
    "print(len(clients))"
   ],
   "outputs": [
    {
     "output_type": "stream",
     "name": "stdout",
     "text": [
      "3\n"
     ]
    }
   ],
   "metadata": {}
  },
  {
   "cell_type": "markdown",
   "source": [
    "Gewünschte Ausgabe:\n",
    "\n",
    "```\n",
    "3\n",
    "```"
   ],
   "metadata": {}
  },
  {
   "cell_type": "markdown",
   "source": [
    "#### d.) Eine Mailadresse aus Strings zusammenbauen\n",
    "\n",
    "Plötzlich fällt der Mathemagierin ein, dass in der Liste _clients_ noch ihr wichtigster Onlineshop-Kunde fehlt. Die Infos zu ihm wurden bei einem misslungenen Trick in zwei Teile zersägt und liegen seitdem in der Liste `[\"Buehnenzauberer\", \"magic.com\"]` herum. \n",
    "\n",
    "Rekonstruiere mit Hilfe von Python die Mailadresse des Kunden (da fehlt ein `@` zwischen \"Buehnenzauberer\" und \"magic.com\") und gebe sie aus, damit sich der Onlineshop-Kundendienst nach seinem Wohlbefinden erkundigen kann."
   ],
   "metadata": {}
  },
  {
   "cell_type": "code",
   "execution_count": 8,
   "source": [
    "zauberer = [\"Buehnenzauberer\", \"magic.com\"]\n",
    "\n",
    "# Ergänze hier den Code\n",
    "print(\"@\".join(zauberer))"
   ],
   "outputs": [
    {
     "output_type": "stream",
     "name": "stdout",
     "text": [
      "Buehnenzauberer@magic.com\n"
     ]
    }
   ],
   "metadata": {}
  },
  {
   "cell_type": "markdown",
   "source": [
    "Gewünschte Ausgabe:\n",
    "\n",
    "```\n",
    "Buehnenzauberer@magic.com\n",
    "```"
   ],
   "metadata": {}
  },
  {
   "cell_type": "markdown",
   "source": [
    "## Gut gemacht! :-)"
   ],
   "metadata": {}
  },
  {
   "cell_type": "code",
   "execution_count": null,
   "source": [],
   "outputs": [],
   "metadata": {
    "collapsed": true
   }
  }
 ],
 "metadata": {
  "kernelspec": {
   "name": "python3",
   "display_name": "Python 3.8.8 64-bit ('base': conda)"
  },
  "language_info": {
   "codemirror_mode": {
    "name": "ipython",
    "version": 3
   },
   "file_extension": ".py",
   "mimetype": "text/x-python",
   "name": "python",
   "nbconvert_exporter": "python",
   "pygments_lexer": "ipython3",
   "version": "3.8.8"
  },
  "interpreter": {
   "hash": "b3ba2566441a7c06988d0923437866b63cedc61552a5af99d1f4fb67d367b25f"
  }
 },
 "nbformat": 4,
 "nbformat_minor": 2
}