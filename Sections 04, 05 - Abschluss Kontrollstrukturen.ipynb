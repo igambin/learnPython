{
 "cells": [
  {
   "cell_type": "markdown",
   "source": [
    "# Abschluss Kontrollstrukturen"
   ],
   "metadata": {}
  },
  {
   "cell_type": "markdown",
   "source": [
    "Nimm dir die Zeit, um die Aufgaben sorgfältig zu bearbeiten. :-) Viel Erfolg!\n",
    "\n",
    "Wenn du mit diesem Übungsblatt fertig bist, kannst du deine Lösung mit der Musterlösung in Textform (Datei: `Abschluss Kontrollstrukturen (Musterloesung)`) vergleichen. \n",
    "\n",
    "Die Video-Musterlösung (in der nächsten Lektion) ist besonders ausführlich gehalten. Wenn du alles richtig gelöst hast, ist es vollkommen okay, wenn du diese Lektion dann überspringst."
   ],
   "metadata": {}
  },
  {
   "cell_type": "markdown",
   "source": [
    "### 1. Aufgabe: Kontinente \n",
    "\n",
    "#### a.) Gib nacheinander alle Kontinente aus der Liste _continents_ aus."
   ],
   "metadata": {}
  },
  {
   "cell_type": "code",
   "execution_count": 1,
   "source": [
    "continents = [\"Afrika\", \"Antarktis\", \"Asien\", \"Australien und Ozeanien\", \"Europa\", \"Nordamerika\", \"Südamerika\"]\r\n",
    "\r\n",
    "# Hier deinen Code ergänzen\r\n",
    "for c in continents:\r\n",
    "    print(c)"
   ],
   "outputs": [
    {
     "output_type": "stream",
     "name": "stdout",
     "text": [
      "Afrika\n",
      "Antarktis\n",
      "Asien\n",
      "Australien und Ozeanien\n",
      "Europa\n",
      "Nordamerika\n",
      "Südamerika\n"
     ]
    }
   ],
   "metadata": {
    "collapsed": true
   }
  },
  {
   "cell_type": "markdown",
   "source": [
    "Gewünschte Ausgabe:\n",
    "\n",
    "```\n",
    "Afrika\n",
    "Antarktis\n",
    "Asien\n",
    "Australien und Ozeanien\n",
    "Europa\n",
    "Nordamerika\n",
    "Südamerika\n",
    "```"
   ],
   "metadata": {}
  },
  {
   "cell_type": "markdown",
   "source": [
    "#### b.) Gib aus der Liste _continents_ nur die bewohnten Kontinente aus.\n",
    "\n",
    "**Hinweis:**: Antarktis ist nicht bewohnt. Diesen Kontinent kannst du also bei der Ausgabe einfach überspringen."
   ],
   "metadata": {}
  },
  {
   "cell_type": "code",
   "execution_count": 2,
   "source": [
    "# Hier deinen Code ergänzen\r\n",
    "for c in continents:\r\n",
    "    if c != 'Antarktis':\r\n",
    "        print(c)"
   ],
   "outputs": [
    {
     "output_type": "stream",
     "name": "stdout",
     "text": [
      "Afrika\n",
      "Asien\n",
      "Australien und Ozeanien\n",
      "Europa\n",
      "Nordamerika\n",
      "Südamerika\n"
     ]
    }
   ],
   "metadata": {
    "collapsed": true
   }
  },
  {
   "cell_type": "markdown",
   "source": [
    "Gewünschte Ausgabe:\n",
    "\n",
    "```\n",
    "Afrika\n",
    "Asien\n",
    "Australien und Ozeanien\n",
    "Europa\n",
    "Nordamerika\n",
    "Südamerika\n",
    "```"
   ],
   "metadata": {}
  },
  {
   "cell_type": "markdown",
   "source": [
    "#### c.) Gib aus der Liste _stuff_ nur die Kontinente aus.\n",
    "\n",
    "Du kannst dafür die Liste `stuff` mit einer Schleife durchgehen und dann mit Hilfe der Variable `continents` prüfen, ob ein Element der Liste `stuff` auch in der Liste `continents` vorkommt."
   ],
   "metadata": {}
  },
  {
   "cell_type": "code",
   "execution_count": 5,
   "source": [
    "stuff = [\"Asien\", \"Max\", 101, \"Monika\", \"China\", \"Simbabwe\", \"Antarktis\"]"
   ],
   "outputs": [],
   "metadata": {
    "collapsed": true
   }
  },
  {
   "cell_type": "code",
   "execution_count": 6,
   "source": [
    "# Hier deinen Code ergänzen\r\n",
    "for s in stuff:\r\n",
    "    if s in continents:\r\n",
    "        print(s)"
   ],
   "outputs": [
    {
     "output_type": "stream",
     "name": "stdout",
     "text": [
      "Asien\n",
      "Antarktis\n"
     ]
    }
   ],
   "metadata": {
    "collapsed": true
   }
  },
  {
   "cell_type": "markdown",
   "source": [
    "Gewünschte Ausgabe:\n",
    "\n",
    "```\n",
    "Asien\n",
    "Antarktis\n",
    "```"
   ],
   "metadata": {}
  },
  {
   "cell_type": "markdown",
   "source": [
    "#### d.) Wie viele Kontinente sind in der Liste `stuff` enthalten?\n",
    "\n",
    "Schreibe dazu eine Schleife, mit der du die Anzahl der Kontinente in der Liste _stuff_ zählst und gib diesen Wert dann aus."
   ],
   "metadata": {}
  },
  {
   "cell_type": "code",
   "execution_count": 7,
   "source": [
    "# Hier deinen Code ergänzen\r\n",
    "i = 0\r\n",
    "for s in stuff:\r\n",
    "    if s in continents: \r\n",
    "        i+=1\r\n",
    "print(i)"
   ],
   "outputs": [
    {
     "output_type": "stream",
     "name": "stdout",
     "text": [
      "2\n"
     ]
    }
   ],
   "metadata": {
    "collapsed": true
   }
  },
  {
   "cell_type": "markdown",
   "source": [
    "Gewünschte Ausgabe:\n",
    "\n",
    "```\n",
    "2 \n",
    "```"
   ],
   "metadata": {}
  },
  {
   "cell_type": "markdown",
   "source": [
    "### 2. Aufgabe: Rabattaktion\n",
    "\n",
    "Zurück zur Mathemagierin: Sie möchte in ihrem Shop eine Rabattaktion starten, um das Geschäft anzukurbeln. Natürlich hat sie dabei wieder etwas zu programmieren für dich. Du sollst die Berechnung der reduzierten Preise mit einer if-elif-else-Struktur vereinfachen.\n",
    "\n",
    "Dabei ist zu beachten:\n",
    "\n",
    "Artikel, die zwischen 0 und 20 (einschließlich) Taler kosten, werden um 20 % reduziert; Artikel, die zwischen 20 (nicht einschließlich) und 50 Taler (einschließlich) kosten, werden um 40 % reduziert. Alle anderen Artikel, also solche, die mehr als 50 Taler kosten, werden um 60 % reduziert.\n",
    "\n",
    "#### a.) Gib für die Variable _price_ den neuen, rabattierten Preis aus."
   ],
   "metadata": {}
  },
  {
   "cell_type": "code",
   "execution_count": 11,
   "source": [
    "price = 50\r\n",
    "\r\n",
    "# hier kommt deine if-elif-else-Struktur hin\r\n",
    "if price <= 20:\r\n",
    "    price *= .8\r\n",
    "elif price <= 50:\r\n",
    "    price *= .6\r\n",
    "else:\r\n",
    "    price *= .4\r\n",
    "\r\n",
    "print(price)"
   ],
   "outputs": [
    {
     "output_type": "stream",
     "name": "stdout",
     "text": [
      "30.0\n"
     ]
    }
   ],
   "metadata": {}
  },
  {
   "cell_type": "markdown",
   "source": [
    "Gewünschte Ausgabe:\n",
    "\n",
    "```\n",
    "30.0\n",
    "```"
   ],
   "metadata": {}
  },
  {
   "cell_type": "markdown",
   "source": [
    "#### b.) Berechne nun für jeden der alten Preise aus der Liste _prices_ die passenden reduzierten Preise und speichere sie in der neuen Liste new_prices. Gib diese Liste schließlich aus."
   ],
   "metadata": {}
  },
  {
   "cell_type": "code",
   "execution_count": 13,
   "source": [
    "prices = [2, 50, 70, 30]\r\n",
    "new_prices =[]\r\n",
    "\r\n",
    "# schreibe hier deinen Code\r\n",
    "for p in prices: \r\n",
    "    if p <= 20:\r\n",
    "        p *= .8\r\n",
    "    elif p <= 50:\r\n",
    "        p *= .6\r\n",
    "    else:\r\n",
    "        p *= .4\r\n",
    "    new_prices.append(p)\r\n",
    "\r\n",
    "print(new_prices) "
   ],
   "outputs": [
    {
     "output_type": "stream",
     "name": "stdout",
     "text": [
      "[1.6, 30.0, 28.0, 18.0]\n"
     ]
    }
   ],
   "metadata": {}
  },
  {
   "cell_type": "markdown",
   "source": [
    "Gewünschte Ausgabe (muss nicht farbig sein):\n",
    "\n",
    "```python\n",
    "[1.6, 30.0, 28.0, 18.0]\n",
    "```"
   ],
   "metadata": {}
  },
  {
   "cell_type": "markdown",
   "source": [
    "#### c.) Zusatzaufgabe (schwierig!)\n",
    "Nun überreicht dir die Mathemagierin mit zitternden Händen die Liste _chaos_, in der neue und alte Preise gemischt sind! Angesichts dieser undurchdachten Arbeit schlägst du dir die Hände vor dem Kopf zusammen, aber es hilft ja nichts: Nur du kannst hier wieder Ordnung schaffen, indem du alles zusammenbringst, was du schon gelernt hast!\n",
    "\n",
    "Gehe die Elemente in der Liste _chaos_ durch. Bei einem neuen Preis ziehst du bloß den neuen Wert aus dem String und hängst ihn der Liste _order_ an. Bei einem alten Preis hingegen holst du dir den alten Wert, berechnest den neuen Preis und hängst diesen Wert an die Liste _order_.\n",
    "\n",
    "Schließlich gibst du die vollständige Liste _order_ aus, in der nur noch neue Preise drinstehen (und nur noch Zahlen!).\n",
    "\n",
    "Tipp: Mit Hilfe des `in` - Operators kannst du prüfen, ob `old` oder `new` in einem Listenelement vorkommt (`\"old\" in \"old price: 123\"`), und entsprechend entscheiden, ob du die Rabatierung durchführen möchtest oder nicht."
   ],
   "metadata": {}
  },
  {
   "cell_type": "code",
   "execution_count": 16,
   "source": [
    "chaos =[\"old price: 40\", \"new price: 21\", \"old price: 29\", \"old price: 50\", \"new price: 101\"]\r\n",
    "order = []\r\n",
    "\r\n",
    "# hier schreibst du deinen Code hinein\r\n",
    "for c in chaos:\r\n",
    "    p = int(c.split(\": \")[1])\r\n",
    "    if \"old\" in c:\r\n",
    "        if p <= 20:\r\n",
    "            p *= .8\r\n",
    "        elif p <= 50:\r\n",
    "            p *= .6\r\n",
    "        else:\r\n",
    "            p *= .4\r\n",
    "    order.append(p)\r\n",
    "\r\n",
    "print(order)"
   ],
   "outputs": [
    {
     "output_type": "stream",
     "name": "stdout",
     "text": [
      "[24.0, 21, 17.4, 30.0, 101]\n"
     ]
    }
   ],
   "metadata": {}
  },
  {
   "cell_type": "markdown",
   "source": [
    "Gewünschte Ausgabe (muss nicht farbig sein):\n",
    "\n",
    "```python\n",
    "[24.0, 21, 17.4, 30.0, 101]\n",
    "```"
   ],
   "metadata": {}
  },
  {
   "cell_type": "markdown",
   "source": [
    "### Yeah, gut gemacht! :-)"
   ],
   "metadata": {}
  },
  {
   "cell_type": "code",
   "execution_count": null,
   "source": [],
   "outputs": [],
   "metadata": {}
  }
 ],
 "metadata": {
  "kernelspec": {
   "name": "python3",
   "display_name": "Python 3.8.8 64-bit ('ProgramData': virtualenv)"
  },
  "language_info": {
   "codemirror_mode": {
    "name": "ipython",
    "version": 3
   },
   "file_extension": ".py",
   "mimetype": "text/x-python",
   "name": "python",
   "nbconvert_exporter": "python",
   "pygments_lexer": "ipython3",
   "version": "3.8.8"
  },
  "interpreter": {
   "hash": "b3ba2566441a7c06988d0923437866b63cedc61552a5af99d1f4fb67d367b25f"
  }
 },
 "nbformat": 4,
 "nbformat_minor": 2
}