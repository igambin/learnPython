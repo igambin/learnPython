{
 "cells": [
  {
   "cell_type": "markdown",
   "source": [
    "## Aufgabe: Vererbung\n",
    "\n",
    "#### Aufgabe 1:\n",
    "\n",
    "Vervollständige die Klasse \"FileReader\" so, dass bei Aufruf der lines() - Methode die Datei Zeile für Zeile eingelesen wird. Die lines() - Methode soll dann eine Liste der Zeilen in der Datei zurückgeben.\n",
    "\n",
    "#### Aufgabe 2:\n",
    "\n",
    "Erstelle die Klasse \"CsvReader\", sodass der \"FileReader\" erweitert wird. Bei Aufruf der lines() soll die Datei als .csv-Datei eingelesen werden, sprich es soll eine mehrdimensionale Liste zurückgegeben werden. \n",
    "\n",
    "**Wichtig:** Überlass' das Einlesen der Datei dem \"FileReader\", und erweitere die lines() - Methode im Csv-Reader um die Funktionalität, die benötigt wird, damit die mehrdimensionale Liste zurückgegeben wird!"
   ],
   "metadata": {}
  },
  {
   "cell_type": "code",
   "execution_count": 29,
   "source": [
    "class FileReader():\r\n",
    "\r\n",
    "    def __init__(self, filename):\r\n",
    "        self.filename = filename\r\n",
    "        self.__rows = []\r\n",
    "\r\n",
    "    def lines(self):\r\n",
    "        if( len(self.__rows) == 0):\r\n",
    "            with open(self.filename, \"r\") as file:\r\n",
    "                for line in file:\r\n",
    "                    self.__rows.append(line.strip())\r\n",
    "        return self.__rows\r\n",
    "\r\n",
    "\r\n",
    "class CsvReader(FileReader):\r\n",
    "    \r\n",
    "    def __init__(self, filename):\r\n",
    "        super().__init__(filename)\r\n",
    "        self.__lines = []\r\n",
    "\r\n",
    "    def lines(self):\r\n",
    "        if(len(self.__lines) == 0):\r\n",
    "            filelines = super().lines()\r\n",
    "            for line in filelines:\r\n",
    "                self.__lines.append(line.split(','))\r\n",
    "        return self.__lines\r\n",
    "\r\n"
   ],
   "outputs": [],
   "metadata": {
    "collapsed": true
   }
  },
  {
   "cell_type": "code",
   "execution_count": 30,
   "source": [
    "f = FileReader(\"data/students.csv\")\r\n",
    "print(f.lines())\r\n",
    "\r\n",
    "# Hier soll ausgegeben werden:\r\n",
    "# [\"Nachname,Vorname\", \"Mustermann,Max\", \"Mueller,Monika\"]"
   ],
   "outputs": [
    {
     "output_type": "stream",
     "name": "stdout",
     "text": [
      "['Nachname,Vorname', 'Mustermann,Max', 'Mueller,Monika']\n"
     ]
    }
   ],
   "metadata": {
    "collapsed": true
   }
  },
  {
   "cell_type": "code",
   "execution_count": 31,
   "source": [
    "f = CsvReader(\"data/students.csv\")\r\n",
    "print(f.lines())\r\n",
    "\r\n",
    "# Hier soll ausgegeben werden:\r\n",
    "# [[\"Nachname\", \"Vorname\"], [\"Mustermann\", \"Max\"], [\"Mueller\", \"Monika\"]]"
   ],
   "outputs": [
    {
     "output_type": "error",
     "ename": "TypeError",
     "evalue": "super() argument 1 must be type, not str",
     "traceback": [
      "\u001b[1;31m---------------------------------------------------------------------------\u001b[0m",
      "\u001b[1;31mTypeError\u001b[0m                                 Traceback (most recent call last)",
      "\u001b[1;32m<ipython-input-31-c64deb11bfcc>\u001b[0m in \u001b[0;36m<module>\u001b[1;34m\u001b[0m\n\u001b[1;32m----> 1\u001b[1;33m \u001b[0mf\u001b[0m \u001b[1;33m=\u001b[0m \u001b[0mCsvReader\u001b[0m\u001b[1;33m(\u001b[0m\u001b[1;34m\"data/students.csv\"\u001b[0m\u001b[1;33m)\u001b[0m\u001b[1;33m\u001b[0m\u001b[1;33m\u001b[0m\u001b[0m\n\u001b[0m\u001b[0;32m      2\u001b[0m \u001b[0mprint\u001b[0m\u001b[1;33m(\u001b[0m\u001b[0mf\u001b[0m\u001b[1;33m.\u001b[0m\u001b[0mlines\u001b[0m\u001b[1;33m(\u001b[0m\u001b[1;33m)\u001b[0m\u001b[1;33m)\u001b[0m\u001b[1;33m\u001b[0m\u001b[1;33m\u001b[0m\u001b[0m\n\u001b[0;32m      3\u001b[0m \u001b[1;33m\u001b[0m\u001b[0m\n\u001b[0;32m      4\u001b[0m \u001b[1;31m# Hier soll ausgegeben werden:\u001b[0m\u001b[1;33m\u001b[0m\u001b[1;33m\u001b[0m\u001b[1;33m\u001b[0m\u001b[0m\n\u001b[0;32m      5\u001b[0m \u001b[1;31m# [[\"Nachname\", \"Vorname\"], [\"Mustermann\", \"Max\"], [\"Mueller\", \"Monika\"]]\u001b[0m\u001b[1;33m\u001b[0m\u001b[1;33m\u001b[0m\u001b[1;33m\u001b[0m\u001b[0m\n",
      "\u001b[1;32m<ipython-input-29-b34c8085a4a1>\u001b[0m in \u001b[0;36m__init__\u001b[1;34m(self, filename)\u001b[0m\n\u001b[0;32m     16\u001b[0m \u001b[1;33m\u001b[0m\u001b[0m\n\u001b[0;32m     17\u001b[0m     \u001b[1;32mdef\u001b[0m \u001b[0m__init__\u001b[0m\u001b[1;33m(\u001b[0m\u001b[0mself\u001b[0m\u001b[1;33m,\u001b[0m \u001b[0mfilename\u001b[0m\u001b[1;33m)\u001b[0m\u001b[1;33m:\u001b[0m\u001b[1;33m\u001b[0m\u001b[1;33m\u001b[0m\u001b[0m\n\u001b[1;32m---> 18\u001b[1;33m         \u001b[0msuper\u001b[0m\u001b[1;33m(\u001b[0m\u001b[0mfilename\u001b[0m\u001b[1;33m)\u001b[0m\u001b[1;33m\u001b[0m\u001b[1;33m\u001b[0m\u001b[0m\n\u001b[0m\u001b[0;32m     19\u001b[0m         \u001b[0mself\u001b[0m\u001b[1;33m.\u001b[0m\u001b[0m__lines\u001b[0m \u001b[1;33m=\u001b[0m \u001b[1;33m[\u001b[0m\u001b[1;33m]\u001b[0m\u001b[1;33m\u001b[0m\u001b[1;33m\u001b[0m\u001b[0m\n\u001b[0;32m     20\u001b[0m \u001b[1;33m\u001b[0m\u001b[0m\n",
      "\u001b[1;31mTypeError\u001b[0m: super() argument 1 must be type, not str"
     ]
    }
   ],
   "metadata": {
    "collapsed": true
   }
  }
 ],
 "metadata": {
  "kernelspec": {
   "name": "python3",
   "display_name": "Python 3.8.8 64-bit ('base': conda)"
  },
  "language_info": {
   "codemirror_mode": {
    "name": "ipython",
    "version": 3
   },
   "file_extension": ".py",
   "mimetype": "text/x-python",
   "name": "python",
   "nbconvert_exporter": "python",
   "pygments_lexer": "ipython3",
   "version": "3.8.8"
  },
  "interpreter": {
   "hash": "b3ba2566441a7c06988d0923437866b63cedc61552a5af99d1f4fb67d367b25f"
  }
 },
 "nbformat": 4,
 "nbformat_minor": 2
}