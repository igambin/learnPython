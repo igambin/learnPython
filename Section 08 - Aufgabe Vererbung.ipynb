{
 "cells": [
  {
   "cell_type": "markdown",
   "source": [
    "## Aufgabe: Vererbung\n",
    "\n",
    "#### Aufgabe 1:\n",
    "\n",
    "Vervollständige die Klasse \"FileReader\" so, dass bei Aufruf der lines() - Methode die Datei Zeile für Zeile eingelesen wird. Die lines() - Methode soll dann eine Liste der Zeilen in der Datei zurückgeben.\n",
    "\n",
    "#### Aufgabe 2:\n",
    "\n",
    "Erstelle die Klasse \"CsvReader\", sodass der \"FileReader\" erweitert wird. Bei Aufruf der lines() soll die Datei als .csv-Datei eingelesen werden, sprich es soll eine mehrdimensionale Liste zurückgegeben werden. \n",
    "\n",
    "**Wichtig:** Überlass' das Einlesen der Datei dem \"FileReader\", und erweitere die lines() - Methode im Csv-Reader um die Funktionalität, die benötigt wird, damit die mehrdimensionale Liste zurückgegeben wird!"
   ],
   "metadata": {}
  },
  {
   "cell_type": "code",
   "execution_count": 38,
   "source": [
    "class FileReader():\r\n",
    "\r\n",
    "    def __init__(self, filename):\r\n",
    "        self.filename = filename\r\n",
    "        self.__rows = []\r\n",
    "\r\n",
    "    def lines(self):\r\n",
    "        if( len(self.__rows) == 0):\r\n",
    "            with open(self.filename, \"r\") as file:\r\n",
    "                for line in file:\r\n",
    "                    self.__rows.append(line.strip())\r\n",
    "        return self.__rows\r\n",
    "\r\n",
    "\r\n",
    "class CsvReader(FileReader):\r\n",
    "    \r\n",
    "    def __init__(self, filename):\r\n",
    "        super().__init__(filename)\r\n",
    "        self.__lines = []\r\n",
    "\r\n",
    "    def lines(self):\r\n",
    "        if(len(self.__lines) == 0):\r\n",
    "            self.__lines = [ line.split(',') for line in super().lines() ]\r\n",
    "        return self.__lines\r\n",
    "\r\n"
   ],
   "outputs": [],
   "metadata": {
    "collapsed": true
   }
  },
  {
   "cell_type": "code",
   "execution_count": 39,
   "source": [
    "f = FileReader(\"data/students.csv\")\r\n",
    "print(f.lines())\r\n",
    "\r\n",
    "# Hier soll ausgegeben werden:\r\n",
    "# [\"Nachname,Vorname\", \"Mustermann,Max\", \"Mueller,Monika\"]"
   ],
   "outputs": [
    {
     "output_type": "stream",
     "name": "stdout",
     "text": [
      "['Nachname,Vorname', 'Mustermann,Max', 'Mueller,Monika']\n"
     ]
    }
   ],
   "metadata": {
    "collapsed": true
   }
  },
  {
   "cell_type": "code",
   "execution_count": 40,
   "source": [
    "f = CsvReader(\"data/students.csv\")\r\n",
    "print(f.lines())\r\n",
    "\r\n",
    "# Hier soll ausgegeben werden:\r\n",
    "# [[\"Nachname\", \"Vorname\"], [\"Mustermann\", \"Max\"], [\"Mueller\", \"Monika\"]]"
   ],
   "outputs": [
    {
     "output_type": "stream",
     "name": "stdout",
     "text": [
      "[['Nachname', 'Vorname'], ['Mustermann', 'Max'], ['Mueller', 'Monika']]\n"
     ]
    }
   ],
   "metadata": {
    "collapsed": true
   }
  }
 ],
 "metadata": {
  "kernelspec": {
   "name": "python3",
   "display_name": "Python 3.8.8 64-bit ('base': conda)"
  },
  "language_info": {
   "codemirror_mode": {
    "name": "ipython",
    "version": 3
   },
   "file_extension": ".py",
   "mimetype": "text/x-python",
   "name": "python",
   "nbconvert_exporter": "python",
   "pygments_lexer": "ipython3",
   "version": "3.8.8"
  },
  "interpreter": {
   "hash": "b3ba2566441a7c06988d0923437866b63cedc61552a5af99d1f4fb67d367b25f"
  }
 },
 "nbformat": 4,
 "nbformat_minor": 2
}