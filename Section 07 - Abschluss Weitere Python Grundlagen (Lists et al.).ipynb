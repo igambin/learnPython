{
 "cells": [
  {
   "cell_type": "markdown",
   "source": [
    "# Abschluss Weitere Python Grundlagen"
   ],
   "metadata": {}
  },
  {
   "cell_type": "markdown",
   "source": [
    "### Alternative Benutzernamen\n",
    "Zurück zum Zauber-Online-Shop. Diesmal sind Funktionen gewünscht, die alternative Nutzernamen vorschlagen, sofern der Name des neuen Nutzers schon als Nutzername belegt ist.\n"
   ],
   "metadata": {}
  },
  {
   "cell_type": "markdown",
   "source": [
    "#### a.) Abgekürzte Vornamen\n",
    "\n",
    "Du sollst eine Funktion schreiben, der zwei Parameter übergeben werden: ein Vorname und ein Nachname. Die Funktion soll daraus einen Nutzernamen liefern, der aus dem Anfangsbuchstaben des Vornamens und dahinter, ohne Leerzeichen, dem ganzen Nachnamen besteht."
   ],
   "metadata": {}
  },
  {
   "cell_type": "code",
   "execution_count": 1,
   "source": [
    "def user_name(first, last):\r\n",
    "    return first[0]+last\r\n",
    "\r\n",
    "print(user_name(\"Willy\", \"Wizard\"))"
   ],
   "outputs": [
    {
     "output_type": "stream",
     "name": "stdout",
     "text": [
      "WWizard\n"
     ]
    }
   ],
   "metadata": {}
  },
  {
   "cell_type": "code",
   "execution_count": 4,
   "source": [
    "def user_name(first, last):\r\n",
    "    return first[0] + last\r\n",
    "\r\n",
    "print(user_name(\"Willy\", \"Wizard\"))"
   ],
   "outputs": [
    {
     "output_type": "stream",
     "name": "stdout",
     "text": [
      "WWizard\n"
     ]
    }
   ],
   "metadata": {}
  },
  {
   "cell_type": "markdown",
   "source": [
    "#### b.) Verbotene Zeichen\n",
    "\n",
    "Viele Nutzer hängen aus Glauben die Zahl 666 an den Benutzernamen. Doch so viel Magie stört die Shopsoftware! Wenn also ein Nutzername auf 666 endet, muss die Zahl entfernt werden. Schreibe eine Funktion, die als Parameter einen Namen erhält und diesen gegebenenfalls bereinigt zurückliefert.\n",
    "\n",
    "Nur die Folge 666 ist verboten, 66 und 6666 sollen erlaubt sein."
   ],
   "metadata": {}
  },
  {
   "cell_type": "code",
   "execution_count": 6,
   "source": [
    "def legit_name(name):\r\n",
    "    if name[-4] != '6' and name[-3:] == \"666\":\r\n",
    "        return name[:-3]\r\n",
    "    else: \r\n",
    "        return name\r\n",
    "    \r\n",
    "legit_name(\"Hexer666\")"
   ],
   "outputs": [
    {
     "output_type": "execute_result",
     "data": {
      "text/plain": [
       "'Hexer'"
      ]
     },
     "metadata": {},
     "execution_count": 6
    }
   ],
   "metadata": {}
  },
  {
   "cell_type": "code",
   "execution_count": 4,
   "source": [
    "def legit_name(name):\r\n",
    "    if name[-3:] == \"666\":\r\n",
    "        return name[:-3]\r\n",
    "    else:\r\n",
    "        return name\r\n",
    "    \r\n",
    "legit_name(\"Hexer6666\")"
   ],
   "outputs": [
    {
     "output_type": "execute_result",
     "data": {
      "text/plain": [
       "'Hexer6'"
      ]
     },
     "metadata": {},
     "execution_count": 4
    }
   ],
   "metadata": {
    "collapsed": true
   }
  },
  {
   "cell_type": "markdown",
   "source": [
    "#### c.) Nummerierte Nutzernamen\n",
    "In Fällen, dass der gewünschte Nutzername auf eine Zahl endet, soll der Name mit der nächsthöheren (ganzen) Zahl vorgesschlagen werden. Ausser, die letzte Ziffer des Nutzernamens ist schon eine 9. Dann soll einfach wieder eine 1 an den bereits bestehenden Nutzernamen angehängt werden. Schreibe eine Funktion, die als Parameter einen String erhält! Du kannst annehmen, dass der String auf eine Zahl endet. Die Funktion soll einen String zurückliefern, worin die Zahl aus dem Ausgangsstring aber um 1 erhöht bzw. eine 1 angehängt wurde.\n",
    "\n",
    "Du kannst davon ausgehen, dass mit der Funktion nur Namen bearbeitet werden sollen, die bereits auf verbotene Zeichen geprüft wurden."
   ],
   "metadata": {}
  },
  {
   "cell_type": "code",
   "execution_count": 21,
   "source": [
    "def user_name(name):\r\n",
    "    numbers = [ str(i) for i in range(0,10)]\r\n",
    "    i = -1\r\n",
    "    if len(name) > 0 and name[i] in numbers: \r\n",
    "        while len(name)+i-1 >= 0 and name[i-1] in numbers:\r\n",
    "            i -= 1\r\n",
    "        lead, num = name[:i], name[i:]\r\n",
    "        num = num + '1' if num[-1] == '9' else str(int(num)+1)\r\n",
    "        name=f\"{lead}{num}\"\r\n",
    "    return name    \r\n",
    "\r\n",
    "print(user_name(\"Teufelchen699\"))"
   ],
   "outputs": [
    {
     "output_type": "stream",
     "name": "stdout",
     "text": [
      "91\n"
     ]
    }
   ],
   "metadata": {}
  },
  {
   "cell_type": "code",
   "execution_count": 15,
   "source": [
    "def user_name(name):\r\n",
    "    \r\n",
    "    number = int(name[-1])\r\n",
    "    \r\n",
    "    if number < 9:\r\n",
    "        number += 1\r\n",
    "        return name[:-1] + str(number)\r\n",
    "    else:\r\n",
    "         return name + str(1)\r\n",
    "        \r\n",
    "print(user_name(\"Teufelchen699\"))"
   ],
   "outputs": [
    {
     "output_type": "error",
     "ename": "ValueError",
     "evalue": "invalid literal for int() with base 10: 'n'",
     "traceback": [
      "\u001b[1;31m---------------------------------------------------------------------------\u001b[0m",
      "\u001b[1;31mValueError\u001b[0m                                Traceback (most recent call last)",
      "\u001b[1;32m<ipython-input-15-bacd6ad8e5a2>\u001b[0m in \u001b[0;36m<module>\u001b[1;34m\u001b[0m\n\u001b[0;32m      9\u001b[0m          \u001b[1;32mreturn\u001b[0m \u001b[0mname\u001b[0m \u001b[1;33m+\u001b[0m \u001b[0mstr\u001b[0m\u001b[1;33m(\u001b[0m\u001b[1;36m1\u001b[0m\u001b[1;33m)\u001b[0m\u001b[1;33m\u001b[0m\u001b[1;33m\u001b[0m\u001b[0m\n\u001b[0;32m     10\u001b[0m \u001b[1;33m\u001b[0m\u001b[0m\n\u001b[1;32m---> 11\u001b[1;33m \u001b[0mprint\u001b[0m\u001b[1;33m(\u001b[0m\u001b[0muser_name\u001b[0m\u001b[1;33m(\u001b[0m\u001b[1;34m\"Teufelchen\"\u001b[0m\u001b[1;33m)\u001b[0m\u001b[1;33m)\u001b[0m\u001b[1;33m\u001b[0m\u001b[1;33m\u001b[0m\u001b[0m\n\u001b[0m",
      "\u001b[1;32m<ipython-input-15-bacd6ad8e5a2>\u001b[0m in \u001b[0;36muser_name\u001b[1;34m(name)\u001b[0m\n\u001b[0;32m      1\u001b[0m \u001b[1;32mdef\u001b[0m \u001b[0muser_name\u001b[0m\u001b[1;33m(\u001b[0m\u001b[0mname\u001b[0m\u001b[1;33m)\u001b[0m\u001b[1;33m:\u001b[0m\u001b[1;33m\u001b[0m\u001b[1;33m\u001b[0m\u001b[0m\n\u001b[0;32m      2\u001b[0m \u001b[1;33m\u001b[0m\u001b[0m\n\u001b[1;32m----> 3\u001b[1;33m     \u001b[0mnumber\u001b[0m \u001b[1;33m=\u001b[0m \u001b[0mint\u001b[0m\u001b[1;33m(\u001b[0m\u001b[0mname\u001b[0m\u001b[1;33m[\u001b[0m\u001b[1;33m-\u001b[0m\u001b[1;36m1\u001b[0m\u001b[1;33m]\u001b[0m\u001b[1;33m)\u001b[0m\u001b[1;33m\u001b[0m\u001b[1;33m\u001b[0m\u001b[0m\n\u001b[0m\u001b[0;32m      4\u001b[0m \u001b[1;33m\u001b[0m\u001b[0m\n\u001b[0;32m      5\u001b[0m     \u001b[1;32mif\u001b[0m \u001b[0mnumber\u001b[0m \u001b[1;33m<\u001b[0m \u001b[1;36m9\u001b[0m\u001b[1;33m:\u001b[0m\u001b[1;33m\u001b[0m\u001b[1;33m\u001b[0m\u001b[0m\n",
      "\u001b[1;31mValueError\u001b[0m: invalid literal for int() with base 10: 'n'"
     ]
    }
   ],
   "metadata": {}
  },
  {
   "cell_type": "markdown",
   "source": [
    "#### d.) Liste mit Kunstwörtern\n",
    "Die Mathemagierin braucht Inspiration bei der Benennung neuer Produkte! Sie gibt dir eine Liste mit Strings und wünscht sich auf dieser Grundlage von dir eine Liste mit Kunstwörtern. Ein solches Kunstwort soll aus einem Wort von der Liste gebildet werden, indem man bei jedem Wort die ersten vier Buchstaben weglässt und dahinter nochmal das Wort, aber ohne den ersten und die letzten beiden Buchstaben gehängt wird. \n",
    "\n",
    "Du fragst dich, ob noch alles mit der Mathemagierin in Ordnung ist und machst dich dann an die Aufgabe, eine solche Liste mit den komischen Kunstwörtern möglichst schnell zu erstellen."
   ],
   "metadata": {}
  },
  {
   "cell_type": "code",
   "execution_count": 23,
   "source": [
    "words = [\"Karten\", \"Sägeblatt\", \"Teller\", \"Tasse\", \"Vogel\", \"Kraut\", \"Faden\"]"
   ],
   "outputs": [],
   "metadata": {
    "collapsed": true
   }
  },
  {
   "cell_type": "code",
   "execution_count": 27,
   "source": [
    "print( [w[3:]+w[1:-2] for w in words])"
   ],
   "outputs": [
    {
     "output_type": "stream",
     "name": "stdout",
     "text": [
      "['tenart', 'eblattägebla', 'lerell', 'seas', 'elog', 'utra', 'enad']\n"
     ]
    }
   ],
   "metadata": {}
  },
  {
   "cell_type": "code",
   "execution_count": 65,
   "source": [
    "[i[3:] + i[1:-2] for i in words]"
   ],
   "outputs": [
    {
     "output_type": "execute_result",
     "data": {
      "text/plain": [
       "['tenart', 'eblattägebla', 'lerell', 'seas', 'elog', 'utra', 'enad']"
      ]
     },
     "metadata": {},
     "execution_count": 65
    }
   ],
   "metadata": {}
  },
  {
   "cell_type": "markdown",
   "source": [
    "### Gut gemacht :-)"
   ],
   "metadata": {}
  }
 ],
 "metadata": {
  "kernelspec": {
   "name": "python3",
   "display_name": "Python 3.8.8 64-bit ('base': conda)"
  },
  "language_info": {
   "codemirror_mode": {
    "name": "ipython",
    "version": 3
   },
   "file_extension": ".py",
   "mimetype": "text/x-python",
   "name": "python",
   "nbconvert_exporter": "python",
   "pygments_lexer": "ipython3",
   "version": "3.8.8"
  },
  "interpreter": {
   "hash": "b3ba2566441a7c06988d0923437866b63cedc61552a5af99d1f4fb67d367b25f"
  }
 },
 "nbformat": 4,
 "nbformat_minor": 2
}