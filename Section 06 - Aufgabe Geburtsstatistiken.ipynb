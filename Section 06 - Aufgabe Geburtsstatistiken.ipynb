{
 "cells": [
  {
   "cell_type": "markdown",
   "source": [
    "## Aufgabe!\n",
    "\n",
    "Finde heraus, wie oft der Name \"Max\" als männlicher Vorname in Kalifornien zwischen 1950 und 2000 (jeweils einschließlich) vergeben wurde! Verwende dazu die bereitgestellte .csv - Datei (../data/names.csv)!"
   ],
   "metadata": {}
  },
  {
   "cell_type": "code",
   "execution_count": 1,
   "source": [
    "n = \"1975\""
   ],
   "outputs": [],
   "metadata": {
    "collapsed": true
   }
  },
  {
   "cell_type": "code",
   "execution_count": 4,
   "source": [
    "print(int(n) < 1990)"
   ],
   "outputs": [
    {
     "output_type": "stream",
     "name": "stdout",
     "text": [
      "True\n"
     ]
    }
   ],
   "metadata": {}
  },
  {
   "cell_type": "code",
   "execution_count": 7,
   "source": [
    "years = [\"Year\", \"1990\", \"1992\"]\r\n",
    "for year in years:\r\n",
    "    if year == \"Year\":\r\n",
    "        continue\r\n",
    "    print(int(year))"
   ],
   "outputs": [
    {
     "output_type": "stream",
     "name": "stdout",
     "text": [
      "1990\n",
      "1992\n"
     ]
    }
   ],
   "metadata": {}
  },
  {
   "cell_type": "code",
   "execution_count": 3,
   "source": [
    "nmin = 1950\r\n",
    "nmax = 2000\r\n",
    "name = \"Max\"\r\n",
    "gender = \"M\"\r\n",
    "state = \"CA\"\r\n",
    "headerSkipped = False\r\n",
    "counter = 0\r\n",
    "\r\n",
    "with open(\"../data/names.csv\", \"r\") as file:\r\n",
    "    for line in file: \r\n",
    "        if headerSkipped:\r\n",
    "            input = line.strip().split(\",\")\r\n",
    "            n = int(input[2])\r\n",
    "            if input[1] == name and input[3] == gender and input[4] == state and n >= nmin and n <= nmax:\r\n",
    "                counter+=int(input[5])\r\n",
    "        else: \r\n",
    "            headerSkipped = True\r\n",
    "            continue\r\n",
    "\r\n",
    "print(counter)"
   ],
   "outputs": [
    {
     "output_type": "stream",
     "name": "stdout",
     "text": [
      "6385\n"
     ]
    }
   ],
   "metadata": {
    "collapsed": true
   }
  }
 ],
 "metadata": {
  "kernelspec": {
   "name": "python3",
   "display_name": "Python 3.8.8 64-bit ('base': conda)"
  },
  "language_info": {
   "codemirror_mode": {
    "name": "ipython",
    "version": 3
   },
   "file_extension": ".py",
   "mimetype": "text/x-python",
   "name": "python",
   "nbconvert_exporter": "python",
   "pygments_lexer": "ipython3",
   "version": "3.8.8"
  },
  "interpreter": {
   "hash": "b3ba2566441a7c06988d0923437866b63cedc61552a5af99d1f4fb67d367b25f"
  }
 },
 "nbformat": 4,
 "nbformat_minor": 2
}