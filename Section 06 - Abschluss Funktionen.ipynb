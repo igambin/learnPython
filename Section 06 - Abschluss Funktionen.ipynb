{
 "cells": [
  {
   "cell_type": "markdown",
   "source": [
    "# Abschluss Funktionen"
   ],
   "metadata": {}
  },
  {
   "cell_type": "markdown",
   "source": [
    "Nimm dir Zeit, um die Aufgaben sorgfältig zu bearbeiten. :-) Viel Erfolg!\n",
    "\n",
    "Wenn du mit diesem Übungsblatt fertig bist, kannst du deine Lösung mit der Musterlösung in Textform (Datei: `Abschluss Funktionen (Musterloesung)`) vergleichen. \n",
    "\n",
    "Die Video-Musterlösung (in der nächsten Lektion) ist besonders ausführlich gehalten. Wenn du alles richtig gelöst hast, ist es vollkommen okay, wenn du diese Lektion dann überspringst."
   ],
   "metadata": {}
  },
  {
   "cell_type": "markdown",
   "source": [
    "### Ein funktionaler Online-Shop\n",
    "Die Mathemagierin will ihren Online-Shop auf Funktionen umrüsten. Es wartet also wieder einiges an Arbeit auf dich. "
   ],
   "metadata": {}
  },
  {
   "cell_type": "markdown",
   "source": [
    "#### a.) Schreibe eine Funktion, die den Gesamtpreis der Produkte im Warenkorb berechnet!\n",
    "Vervollständige die Funktion list_sum(), der als Parameter eine Liste mit den Preisen übergeben wird. Die Funktion soll dann die Summe der Zahlen aus der Liste ausgeben."
   ],
   "metadata": {}
  },
  {
   "cell_type": "code",
   "execution_count": 1,
   "source": [
    "cart_prices = [20, 3.5, 6.49, 8.99, 9.99, 14.98]\r\n",
    "\r\n",
    "def list_sum(l):\r\n",
    "    # hier kommt dein Code hin\r\n",
    "    s = 0\r\n",
    "    for p in l:\r\n",
    "        s += p\r\n",
    "    print(s)\r\n",
    "    \r\n",
    "list_sum(cart_prices)\r\n",
    "        "
   ],
   "outputs": [
    {
     "output_type": "stream",
     "name": "stdout",
     "text": [
      "63.95\n"
     ]
    }
   ],
   "metadata": {}
  },
  {
   "cell_type": "markdown",
   "source": [
    "Folgende Ausgabe wird erwartet: `63.95`"
   ],
   "metadata": {}
  },
  {
   "cell_type": "markdown",
   "source": [
    "#### b.) Schreibe eine Funktion, die für einen Artikel eine Preis-Tabelle erstellt!\n",
    "\n",
    "Nun wünscht sich die Mathmagierin eine Funktion, der sie einen Artikelnamen und den Verkaufspreis übergeben kann. Daraus soll die Funktion eine Liste erstellen, in der die Preise von einem, zwei, drei,... bis zehn Einheiten des Artikels\n",
    "stehen. Genauer soll jedes Element in der Liste so aussehen: \"Anzahl x Artikel: Preis\".\n",
    "\n",
    "Du wunderst dich nur kurz über die Ansprüche der Mathemagierin."
   ],
   "metadata": {}
  },
  {
   "cell_type": "code",
   "execution_count": 1,
   "source": [
    "def prices_list(name, price):\r\n",
    "    # hier kommt dein Code hin, das \"pass\" kannst du durch deinen Code ersetzen\r\n",
    "    prices = [ f\"{i} x {name}: {i * price}\" for i in range(1,11)]\r\n",
    "    return prices\r\n",
    "\r\n",
    "print(prices_list(\"Wunderkeks\", 0.79))\r\n"
   ],
   "outputs": [
    {
     "output_type": "stream",
     "name": "stdout",
     "text": [
      "['1 x Wunderkeks: 0.79', '2 x Wunderkeks: 1.58', '3 x Wunderkeks: 2.37', '4 x Wunderkeks: 3.16', '5 x Wunderkeks: 3.95', '6 x Wunderkeks: 4.74', '7 x Wunderkeks: 5.53', '8 x Wunderkeks: 6.32', '9 x Wunderkeks: 7.11', '10 x Wunderkeks: 7.9']\n"
     ]
    }
   ],
   "metadata": {}
  },
  {
   "cell_type": "markdown",
   "source": [
    "Folgende Ausgabe wird erwartet (muss nicht farbig sein):\r\n",
    "\r\n",
    "```python\r\n",
    "['1 x Wunderkeks: 0.79', '2 x Wunderkeks: 1.58', '3 x Wunderkeks: 2.37', '4 x Wunderkeks: 3.16', '5 x Wunderkeks: 3.95', '6 x Wunderkeks: 4.74', '7 x Wunderkeks: 5.53', '8 x Wunderkeks: 6.32', '9 x Wunderkeks: 7.11', '10 x Wunderkeks: 7.9']\r\n",
    "```"
   ],
   "metadata": {}
  },
  {
   "cell_type": "markdown",
   "source": [
    "#### c.) Schreibe eine Funktion, die die Listen mit den Artikeln auffüllt!\r\n",
    "\r\n",
    "Von nun an soll auch eine Funktion die Waren in die virtuellen Regale einräumen, d. h. an die erste, noch leere Position in der Liste _shelf_ packen. Als Parameter soll der Funktion `add_shelf()` der einzusortierende Artikel übergeben werden. Die Funktion aktualisiert dann die Liste `shelf`, und der neue Artikel wurde in das erste leere Regalfach eingeräumt. "
   ],
   "metadata": {}
  },
  {
   "cell_type": "code",
   "execution_count": 18,
   "source": [
    "shelf = [\"Zaubersäge\", \"leer\", \"Wunderkekse\", \"Trickarten\", \"leer\"]\r\n",
    "\r\n",
    "def add_shelf(article):\r\n",
    "    # hier kommt dein Code hin. \r\n",
    "    # Du darfst von innerhalb der Funktion direkt auf die Variable \"shelf\"\r\n",
    "    # zugreifen, diese muss nicht als Parameter übergeben werden, da sie\r\n",
    "    # schon außerhalb der Funktion existiert.\r\n",
    "    for i in range(0, len(shelf)):\r\n",
    "        if shelf[i] == \"leer\":\r\n",
    "            shelf[i] = article\r\n",
    "            break\r\n",
    "    if article not in shelf:\r\n",
    "        shelf.append(article)\r\n",
    "        \r\n",
    "add_shelf(\"Rubik's Cube\")\r\n",
    "print(shelf)"
   ],
   "outputs": [
    {
     "output_type": "stream",
     "name": "stdout",
     "text": [
      "['Zaubersäge', \"Rubik's Cube\", 'Wunderkekse', 'Trickarten', 'leer']\n"
     ]
    }
   ],
   "metadata": {}
  },
  {
   "cell_type": "markdown",
   "source": [
    "Folgende Ausgabe wird erwartet (braucht nicht farbig zu sein):\n",
    "\n",
    "```python\n",
    "['Zaubersäge', \"Rubik's Cube\", 'Wunderkekse', 'Trickkarten', 'leer']\n",
    "```"
   ],
   "metadata": {}
  },
  {
   "cell_type": "markdown",
   "source": [
    "### Gute Arbeit :-)"
   ],
   "metadata": {}
  }
 ],
 "metadata": {
  "kernelspec": {
   "name": "python3",
   "display_name": "Python 3.8.8 64-bit ('base': conda)"
  },
  "language_info": {
   "codemirror_mode": {
    "name": "ipython",
    "version": 3
   },
   "file_extension": ".py",
   "mimetype": "text/x-python",
   "name": "python",
   "nbconvert_exporter": "python",
   "pygments_lexer": "ipython3",
   "version": "3.8.8"
  },
  "interpreter": {
   "hash": "b3ba2566441a7c06988d0923437866b63cedc61552a5af99d1f4fb67d367b25f"
  }
 },
 "nbformat": 4,
 "nbformat_minor": 2
}