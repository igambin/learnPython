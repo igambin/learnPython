{
 "cells": [
  {
   "cell_type": "markdown",
   "source": [
    "# Übung: Objektorientierte Programmierung\n",
    "\n",
    "Anbei findest du ein paar Aufgaben zum Programmieren. Viel Spaß dabei! :)\n",
    "\n",
    "Wenn du mit diesem Übungsblatt fertig bist, kannst du deine Lösung mit der Musterlösung in Textform (Datei: `Uebung Objektorientierung (Musterloesung)`) vergleichen. \n",
    "\n",
    "Die Video-Musterlösung (in der nächsten Lektion) ist besonders ausführlich gehalten. Wenn du alles richtig gelöst hast, ist es vollkommen okay, wenn du diese Lektion dann überspringst."
   ],
   "metadata": {}
  },
  {
   "cell_type": "markdown",
   "source": [
    "### Aufgabe 1: Modelliere einen Würfel"
   ],
   "metadata": {}
  },
  {
   "cell_type": "markdown",
   "source": [
    "Erstelle eine Klasse _Cube_, mit der du einen Würfel modellierst! Die Würfel-Klasse soll als Eigenschaft die Länge einer Würfel-Seite besitzen. Darüber hinaus soll die Klasse auch zwei Methoden haben: die Methode `volume()` berechnet das Volumen und gibt es aus, die Methode `surface()` berechnet die Oberfläche und gibt sie aus."
   ],
   "metadata": {}
  },
  {
   "cell_type": "code",
   "execution_count": 20,
   "source": [
    "class Cube():\r\n",
    "    # Ergänze hier deinen Code\r\n",
    "    def __init__(self, a):\r\n",
    "        self._a = a\r\n",
    "    \r\n",
    "    def surface(self):\r\n",
    "        return self._a ** 2 * 6\r\n",
    "\r\n",
    "    def volume(self):\r\n",
    "        return self._a ** 3\r\n",
    "\r\n",
    "\r\n",
    "# danach erzeugen wir eine Instanz deiner Cube-Klasse \r\n",
    "a = Cube(3)\r\n",
    "\r\n",
    "# und testen die Methoden\r\n",
    "print(a.surface()) # expected output 54\r\n",
    "print(a.volume())  # expected output 27 "
   ],
   "outputs": [
    {
     "output_type": "stream",
     "name": "stdout",
     "text": [
      "54\n",
      "27\n"
     ]
    }
   ],
   "metadata": {}
  },
  {
   "cell_type": "markdown",
   "source": [
    "Erwartete Ausgabe:\n",
    "\n",
    "```\n",
    "54\n",
    "27\n",
    "```"
   ],
   "metadata": {}
  },
  {
   "cell_type": "markdown",
   "source": [
    "### Aufgabe 2: Modelliere ein Kugel"
   ],
   "metadata": {}
  },
  {
   "cell_type": "markdown",
   "source": [
    "Die Kugel-Klasse soll als Eigenschaft den Radius übergeben bekommen. Zudem soll sie - ähnlich wie der Würfel - zwei Methoden haben: `surface()` um den Oberflächeninhalt zu berechnen, `volume()` um das Volumen zu berechnen.\n",
    "\n",
    "Damit du diese Berechnungen durchführen kannst, benötigst du die Kreiszahl Pi. Diese steht dir nach einem `import math` unter `math.pi` zur Verfügung (was der `import` - Befehl genau macht, schauen wir uns noch später im Kurs an).\n",
    "\n",
    "Die Formeln für den Oberflächeninhalt / das Volumen einer Kugel darfst du im Internet nachgucken."
   ],
   "metadata": {}
  },
  {
   "cell_type": "code",
   "execution_count": 3,
   "source": [
    "import math\r\n",
    "print(math.pi)"
   ],
   "outputs": [
    {
     "output_type": "stream",
     "name": "stdout",
     "text": [
      "3.141592653589793\n"
     ]
    }
   ],
   "metadata": {}
  },
  {
   "cell_type": "code",
   "execution_count": 21,
   "source": [
    "import math\r\n",
    "\r\n",
    "class Ball():\r\n",
    "    # Ergänze hier deinen Code\r\n",
    "    def __init__(self, r):\r\n",
    "        self._radius = r\r\n",
    "\r\n",
    "    def surface(self):\r\n",
    "        return 4 * math.pi * self._radius ** 2\r\n",
    "\r\n",
    "    def volume(self):\r\n",
    "        return 4/3 * math.pi * self._radius ** 3\r\n",
    "\r\n",
    "b = Ball(4)\r\n",
    "print(b.surface()) # expected output: 201.06192982974676\r\n",
    "print(b.volume())  # expected output: 268.082573106329"
   ],
   "outputs": [
    {
     "output_type": "stream",
     "name": "stdout",
     "text": [
      "201.06192982974676\n",
      "268.082573106329\n"
     ]
    }
   ],
   "metadata": {}
  },
  {
   "cell_type": "markdown",
   "source": [
    "Erwartete Ausgabe (es reicht, wenn die Zahlenwerte auf ein paar Nachkommastellen genau sind):\n",
    "\n",
    "```\n",
    "201.06192982974676\n",
    "268.082573106329\n",
    "```"
   ],
   "metadata": {}
  },
  {
   "cell_type": "markdown",
   "source": [
    "### Aufgabe 3: Modelliere ein Konto\n",
    "\n",
    "#### a.) \n",
    "\n",
    "Erstelle die Konto-Klasse _Account_ mit der Eigenschaft Kontostand _credits_! Diese Eigenschaft wird mit einem Startkapital initialisiert. Die Methode `display()` soll den aktuellen Kontostand ausgeben. "
   ],
   "metadata": {}
  },
  {
   "cell_type": "code",
   "execution_count": 8,
   "source": [
    "class Account():\r\n",
    "    # Ergänze hier deinen Code\r\n",
    "    def __init__(self, credits):\r\n",
    "        self.__credits = credits\r\n",
    "\r\n",
    "    def display(self):\r\n",
    "        print(self.__credits)        \r\n",
    "Kunde111 = Account(500)\r\n",
    "Kunde111.display()"
   ],
   "outputs": [
    {
     "output_type": "stream",
     "name": "stdout",
     "text": [
      "500\n"
     ]
    }
   ],
   "metadata": {}
  },
  {
   "cell_type": "markdown",
   "source": [
    "Erwartete Ausgabe:\n",
    "\n",
    "```\n",
    "500\n",
    "```"
   ],
   "metadata": {}
  },
  {
   "cell_type": "markdown",
   "source": [
    "**b.)**\n",
    "\n",
    "Ergänze die Klasse _Account_ um zwei Methoden (`pay_in()` zum Einzahlen, `withdraw()` zum Abheben), so dass du Geldbeträge einzahlen und abbuchen kannst, und der Kontostand entsprechend angepasst wird. \n",
    "\n",
    "Du sollst nur Geld abheben können, so lange auch Geld auf dem Konto ist. Ein Dispo-Kredit wird nicht gewährt. In dem Fall soll eine Fehlermeldung ausgegeben werden, in der steht, wieviel Geld maximal abgebucht werden kann."
   ],
   "metadata": {}
  },
  {
   "cell_type": "code",
   "execution_count": 11,
   "source": [
    "class Account():\r\n",
    "    \r\n",
    "    def __init__(self, credits):\r\n",
    "        self.__credits = credits\r\n",
    "\r\n",
    "    def display(self):\r\n",
    "        print(self.__credits)        \r\n",
    "\r\n",
    "    # Ergänze hier deinen Code. Du darfst den Code aus a) \r\n",
    "    # natürlich hierhin übernehmen.\r\n",
    "\r\n",
    "    def\tdeposit(self, value):\r\n",
    "        self.__credits += value\r\n",
    "\r\n",
    "    def\twithdraw(self, value):\r\n",
    "        if(value > self.__credits):\r\n",
    "            print(\"Du kannst nur noch \" + str(self.__credits) + \"€ abheben!\")\r\n",
    "        else:\r\n",
    "            self.__credits -= value\r\n",
    "\r\n",
    "Kunde111 = Account(500)\r\n",
    "Kunde111.display()\r\n",
    "Kunde111.deposit(40)\r\n",
    "Kunde111.display()\r\n",
    "Kunde111.withdraw(25)\r\n",
    "Kunde111.display()\r\n",
    "Kunde111.withdraw(600)"
   ],
   "outputs": [
    {
     "output_type": "stream",
     "name": "stdout",
     "text": [
      "500\n",
      "540\n",
      "515\n",
      "Du kannst nur noch 515€ abheben!\n"
     ]
    }
   ],
   "metadata": {}
  },
  {
   "cell_type": "markdown",
   "source": [
    "Erwartete Ausgabe:\n",
    "\n",
    "```\n",
    "500\n",
    "540\n",
    "515\n",
    "Du kannst nur noch 515€ abheben!\n",
    "```"
   ],
   "metadata": {}
  },
  {
   "cell_type": "markdown",
   "source": [
    "**c.)**\n",
    "\n",
    "Bislang ist das Konto noch ungeschützt - wir brauchen eine PIN! Ergänze in der Klasse die Eigenschaft _pin_! So wie mit dem Startkapital soll das Konto auch mit einer PIN initialisiert werden.\n",
    "\n",
    "Von nun an muss man beim Geldabheben nicht nur den Betrag, sondern auch die PIN angeben: Nur wenn die PIN mit der des Kontos übereinstimmt, kann auch Geld abgebucht werden, ansonsten kommt es zu einer Fehlermeldung!"
   ],
   "metadata": {}
  },
  {
   "cell_type": "code",
   "execution_count": 14,
   "source": [
    "class Account():\r\n",
    "    # Ergänze hier deinen Code. Du darfst den Code aus b) \r\n",
    "    # natürlich hierhin übernehmen.\r\n",
    "    def __init__(self, credits, pin):\r\n",
    "        self.__credits = credits\r\n",
    "        self.__pin = pin\r\n",
    "\r\n",
    "    def display(self):\r\n",
    "        print(self.__credits)        \r\n",
    "\r\n",
    "    # Ergänze hier deinen Code. Du darfst den Code aus a) \r\n",
    "    # natürlich hierhin übernehmen.\r\n",
    "\r\n",
    "    def\tdeposit(self, value):\r\n",
    "        self.__credits += value\r\n",
    "\r\n",
    "    def\twithdraw(self, value, pin):\r\n",
    "        if(pin != self.__pin):\r\n",
    "            print(\"Falsche PIN! Konto gesperrt! Du bist verhaftet! Hände hoch!\")\r\n",
    "            return\r\n",
    "        if(value > self.__credits):\r\n",
    "            print(\"Du kannst nur noch \" + str(self.__credits) + \"€ abheben!\")\r\n",
    "        else:\r\n",
    "            self.__credits -= value\r\n",
    "\r\n",
    "        \r\n",
    "Kunde111 = Account(500, \"1234\")\r\n",
    "Kunde111.display()\r\n",
    "Kunde111.deposit(40)\r\n",
    "Kunde111.display()\r\n",
    "Kunde111.withdraw(25, \"1234\")\r\n",
    "Kunde111.display()\r\n",
    "Kunde111.withdraw(600, \"12345\")"
   ],
   "outputs": [
    {
     "output_type": "stream",
     "name": "stdout",
     "text": [
      "500\n",
      "540\n",
      "515\n",
      "Falsche PIN! Konto gesperrt! Du bist verhaftet! Hände hoch!\n"
     ]
    }
   ],
   "metadata": {}
  },
  {
   "cell_type": "markdown",
   "source": [
    "Erwartete Ausgabe:\n",
    "\n",
    "```\n",
    "500\n",
    "540\n",
    "515\n",
    "Falsche PIN! Konto gesperrt! Du bist verhaftet! Hände hoch!\n",
    "```"
   ],
   "metadata": {}
  },
  {
   "cell_type": "markdown",
   "source": [
    "### Aufgabe 4: Modelliere einen Zug\n",
    "\n",
    "\n",
    "**a.)**\n",
    "\n",
    "Jetzt wirst du Zugobjekte bauen! Erstelle die Klasse _Train_, die mit den Eigenschaften _route_ und _position_ initialisiert wird! Bei _route_ handelt es sich um eine Liste mit den Haltebahnhöfen des Zuges. _position_ steht für den Index des Bahnhofs aus der Liste, an dem sich der Zug gerade befindet bzw. von dem er zuletzt abgefahren ist (wo genau sich der Zug auf der Strecke zwischen zwei Bahnhöfen befindet, interessiert uns hier nicht). Mit der Methode `show_station()` soll der Name dieses Bahnhofs ausgegeben werden."
   ],
   "metadata": {}
  },
  {
   "cell_type": "code",
   "execution_count": 15,
   "source": [
    "class Train():\r\n",
    "    # Ergänze hier deinen Code\r\n",
    "    def __init__(self, stops, actualStation):\r\n",
    "        self.__stops = stops\r\n",
    "        self.__actualStationIdx = actualStation\r\n",
    "    \r\n",
    "    def show_station(self):\r\n",
    "        return self.__stops[self.__actualStationIdx]\r\n",
    "    \r\n",
    "orientexpress = Train([\"Paris\", \"Budapest\", \"Bukarest\", \"Istanbul\"], 0)\r\n",
    "print(orientexpress.show_station())\r\n"
   ],
   "outputs": [
    {
     "output_type": "stream",
     "name": "stdout",
     "text": [
      "Paris\n"
     ]
    }
   ],
   "metadata": {}
  },
  {
   "cell_type": "markdown",
   "source": [
    "Erwartete Ausgabe:\n",
    "\n",
    "```\n",
    "Paris\n",
    "```\n"
   ],
   "metadata": {}
  },
  {
   "cell_type": "markdown",
   "source": [
    "**b.)**\n",
    "\n",
    "Bisher sitzt ein Zug der Klasse _Train_ noch in seinem Startbahnhof fest. Ergänze nun zwei Methoden `move()` und `move_back()`, mit denen man einen Zug auf seiner Route zur nächsten bzw. zur vorherigen Station bewegen kann, sofern es diese Station auf der Route gibt. Der Zug darf seine Route nicht verlassen!\n"
   ],
   "metadata": {}
  },
  {
   "cell_type": "code",
   "execution_count": 18,
   "source": [
    "class Train():\r\n",
    "    \r\n",
    "    # Ergänze hier deinen Code. Du darfst natürlich deinen Code aus\r\n",
    "    # Teilaufgabe a) hierhin übernehmen.\r\n",
    "    def __init__(self, stops, actual_station):\r\n",
    "        self.__stops = stops\r\n",
    "        self.__actual_station_idx = actual_station\r\n",
    "    \r\n",
    "    def show_station(self):\r\n",
    "        print( self.__stops[self.__actual_station_idx])\r\n",
    "\r\n",
    "    # Ergänze hier deinen Code\r\n",
    "    def move(self):\r\n",
    "        if(self.__actual_station_idx + 1 >= len(self.__stops)):\r\n",
    "            print(\"Endstation! Alle aussteigen!\")\r\n",
    "        else: \r\n",
    "            self.__actual_station_idx += 1\r\n",
    "\r\n",
    "    def move_back(self):\r\n",
    "        if(self.__actual_station_idx - 1 < 0):\r\n",
    "            print(\"Endstation! Alle aussteigen!\")\r\n",
    "        else: \r\n",
    "            self.__actual_station_idx -= 1\r\n",
    "\r\n",
    "\r\n",
    "\r\n",
    "orientexpress = Train([\"Paris\", \"Budapest\", \"Bukarest\", \"Istanbul\"], 0)\r\n",
    "orientexpress.show_station()\r\n",
    "orientexpress.move()\r\n",
    "orientexpress.show_station()\r\n",
    "orientexpress.move()\r\n",
    "orientexpress.show_station()\r\n",
    "orientexpress.move()\r\n",
    "orientexpress.show_station()\r\n",
    "orientexpress.move()\r\n",
    "orientexpress.move_back()\r\n",
    "orientexpress.show_station()"
   ],
   "outputs": [
    {
     "output_type": "stream",
     "name": "stdout",
     "text": [
      "Paris\n",
      "Budapest\n",
      "Bukarest\n",
      "Istanbul\n",
      "Endstation! Alle aussteigen!\n",
      "Bukarest\n"
     ]
    }
   ],
   "metadata": {}
  },
  {
   "cell_type": "markdown",
   "source": [
    "Erwartete Ausgabe:\n",
    "\n",
    "```\n",
    "Paris\n",
    "Budapest\n",
    "Bukarest\n",
    "Istanbul\n",
    "Endstation! Alle aussteigen!\n",
    "Bukarest\n",
    "```"
   ],
   "metadata": {}
  },
  {
   "cell_type": "markdown",
   "source": [
    "**c.)**\n",
    "\n",
    "Die Route soll nachträglich bearbeitet werden können, indem man mit einer Methode `bypass_station()` einen anzugebenden Haltebahnhof von der Route entfernt. Der Zug soll dann sicherheitshalber an den Start der Route versetzt werden, sofern er sich nicht schon dort befindet.\n",
    "\n",
    "**Tipp:** Erinnere dich an die Methoden für Listen! :-)"
   ],
   "metadata": {}
  },
  {
   "cell_type": "code",
   "execution_count": 19,
   "source": [
    "class Train():\r\n",
    "    \r\n",
    "    # Ergänze hier deinen Code. Du darfst natürlich deinen Code aus\r\n",
    "    # Teilaufgabe b) hierhin übernehmen.\r\n",
    "    def __init__(self, stops, actual_station):\r\n",
    "        self.__stops = stops\r\n",
    "        self.__actual_station_idx = actual_station\r\n",
    "    \r\n",
    "    def show_station(self):\r\n",
    "        print( self.__stops[self.__actual_station_idx])\r\n",
    "\r\n",
    "    def move(self):\r\n",
    "        if(self.__actual_station_idx + 1 >= len(self.__stops)):\r\n",
    "            print(\"Endstation! Alle aussteigen!\")\r\n",
    "        else: \r\n",
    "            self.__actual_station_idx += 1\r\n",
    "\r\n",
    "    def move_back(self):\r\n",
    "        if(self.__actual_station_idx - 1 < 0):\r\n",
    "            print(\"Endstation! Alle aussteigen!\")\r\n",
    "        else: \r\n",
    "            self.__actual_station_idx -= 1\r\n",
    "\r\n",
    "    def bypass_station(self, station):\r\n",
    "        self.__stops = [ stop for stop in self.__stops if stop != station]\r\n",
    "        self.__actual_station_idx = 0\r\n",
    "\r\n",
    "\r\n",
    "orientexpress = Train([\"Paris\", \"Budapest\", \"Bukarest\", \"Istanbul\"], 0)\r\n",
    "orientexpress.bypass_station(\"Budapest\")\r\n",
    "orientexpress.move()\r\n",
    "orientexpress.show_station()"
   ],
   "outputs": [
    {
     "output_type": "stream",
     "name": "stdout",
     "text": [
      "Bukarest\n"
     ]
    }
   ],
   "metadata": {}
  },
  {
   "cell_type": "markdown",
   "source": [
    "Erwartete Ausgabe:\n",
    "\n",
    "```\n",
    "Bukarest\n",
    "```"
   ],
   "metadata": {}
  },
  {
   "cell_type": "markdown",
   "source": [
    "#### Gut gemacht :-) "
   ],
   "metadata": {}
  }
 ],
 "metadata": {
  "kernelspec": {
   "name": "python3",
   "display_name": "Python 3.8.8 64-bit ('base': conda)"
  },
  "language_info": {
   "codemirror_mode": {
    "name": "ipython",
    "version": 3
   },
   "file_extension": ".py",
   "mimetype": "text/x-python",
   "name": "python",
   "nbconvert_exporter": "python",
   "pygments_lexer": "ipython3",
   "version": "3.8.8"
  },
  "interpreter": {
   "hash": "b3ba2566441a7c06988d0923437866b63cedc61552a5af99d1f4fb67d367b25f"
  }
 },
 "nbformat": 4,
 "nbformat_minor": 2
}